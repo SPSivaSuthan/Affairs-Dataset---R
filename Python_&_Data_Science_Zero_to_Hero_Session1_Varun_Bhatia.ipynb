{
  "nbformat": 4,
  "nbformat_minor": 0,
  "metadata": {
    "kernelspec": {
      "display_name": "Python 3",
      "language": "python",
      "name": "python3"
    },
    "language_info": {
      "codemirror_mode": {
        "name": "ipython",
        "version": 3
      },
      "file_extension": ".py",
      "mimetype": "text/x-python",
      "name": "python",
      "nbconvert_exporter": "python",
      "pygments_lexer": "ipython3",
      "version": "3.7.3"
    },
    "colab": {
      "name": "Python & Data Science Zero to Hero_Session1 - Varun Bhatia.ipynb",
      "provenance": [],
      "include_colab_link": true
    }
  },
  "cells": [
    {
      "cell_type": "markdown",
      "metadata": {
        "id": "view-in-github",
        "colab_type": "text"
      },
      "source": [
        "<a href=\"https://colab.research.google.com/github/SPSivaSuthan/Machine-Learning-Python/blob/main/Python_%26_Data_Science_Zero_to_Hero_Session1_Varun_Bhatia.ipynb\" target=\"_parent\"><img src=\"https://colab.research.google.com/assets/colab-badge.svg\" alt=\"Open In Colab\"/></a>"
      ]
    },
    {
      "cell_type": "markdown",
      "metadata": {
        "id": "D_c9QznvBrqR"
      },
      "source": [
        "# Introduction"
      ]
    },
    {
      "cell_type": "markdown",
      "metadata": {
        "id": "VfzQXbB3BrqS"
      },
      "source": [
        "Python is one among the most popular dynamic programming languages that is being used today. Python is an open-source and object-oriented programming language developed by Dutchman Guido van Possum in 1980s. This language can be utilized for a wide range of applications like scripting, developing and testing.\n",
        "Python is an interpreted, object-oriented, high-level programming language with dynamic semantics.Python's simple, easy to learn syntax emphasizes readability and therefore reduces the cost of program maintenance. Python supports modules and packages, which encourages program modularity and code reuse. The Python interpreter and the extensive standard library are available in source or binary form without charge for all major platforms, and can be freely distributed."
      ]
    },
    {
      "cell_type": "markdown",
      "metadata": {
        "id": "LaBVazY4BrqT"
      },
      "source": [
        "Python is a great general-purpose programming language on its own, but with the help of a few popular libraries (numpy, scipy, matplotlib) it becomes a powerful environment for scientific computing.\n",
        "Python code is often said to be almost like pseudocode, since it allows you to express very powerful ideas in very few lines of code while being very readable."
      ]
    },
    {
      "cell_type": "markdown",
      "metadata": {
        "id": "eK-0zdgBBrqU"
      },
      "source": [
        "# Features of Python"
      ]
    },
    {
      "cell_type": "markdown",
      "metadata": {
        "id": "uFR2d9D_BrqU"
      },
      "source": [
        "The following are some of the useful features of this language:\n",
        "\n",
        "1) Python language is incredibly easy to use and learn for new beginners and newcomers. The python language is one of the most accessible programming languages available because it has simplified syntax and not complicated, which gives more emphasis on natural language. Due to its ease of learning and usage, python codes can be easily written and executed much faster than other programming languages.\n",
        "\n",
        "2) Mature and Supportive Python Community: Python was created more than 30 years ago, which is a lot of time for any community of programming language to grow and mature adequately to support developers ranging from beginner to expert levels. There are plenty of documentation, guides and Video Tutorials for Python language are available that learner and developer of any skill level or ages can use and receive the support required to enhance their knowledge in python programming language.\n",
        "\n",
        "3) The large standard library included in this language supports several programming tasks like searching text along with systematic expressions, linking to Web servers, modifying and reading files.\n",
        "\n",
        "4) The interactive mode of Python makes its simple to test code’s short snippets.\n",
        "\n",
        "5) The use of big data and cloud computing solutions in the enterprise world has also helped skyrocket Python to success. It is one of the most popular languages used in data science, second only to R. It’s also being used for machine learning and AI systems and various modern technologies.\n",
        "\n"
      ]
    },
    {
      "cell_type": "markdown",
      "metadata": {
        "id": "Xm3q7npsBrqV"
      },
      "source": [
        "# Getting Started with Python"
      ]
    },
    {
      "cell_type": "markdown",
      "metadata": {
        "id": "TK8dJ1zuBrqV"
      },
      "source": [
        "# Variables"
      ]
    },
    {
      "cell_type": "markdown",
      "metadata": {
        "id": "Bm7GyhgHBrqV"
      },
      "source": [
        "A name that is used to denote something or a value is called a variable or variables are containers for storing data values.\n",
        "\n",
        "Python language has no command for declaring a variable. It is created the moment you first assign a value to it:"
      ]
    },
    {
      "cell_type": "code",
      "metadata": {
        "id": "fOIHckBGBrqW"
      },
      "source": [
        "a = 3\n",
        "b = 7\n",
        "c=\"LetsUpgrade\""
      ],
      "execution_count": null,
      "outputs": []
    },
    {
      "cell_type": "code",
      "metadata": {
        "id": "zj8iA_NFBrqW",
        "outputId": "5b199bd4-0be2-4cb5-cff8-bc2d22cfc434"
      },
      "source": [
        "print(a)"
      ],
      "execution_count": null,
      "outputs": [
        {
          "output_type": "stream",
          "text": [
            "3\n"
          ],
          "name": "stdout"
        }
      ]
    },
    {
      "cell_type": "code",
      "metadata": {
        "id": "IhF5H6iPBrqX",
        "outputId": "0ffd8d24-027b-4338-b18b-6cd453bf75da"
      },
      "source": [
        "print(b)"
      ],
      "execution_count": null,
      "outputs": [
        {
          "output_type": "stream",
          "text": [
            "7\n"
          ],
          "name": "stdout"
        }
      ]
    },
    {
      "cell_type": "code",
      "metadata": {
        "id": "n-QpPqoDBrqX",
        "outputId": "cb01b484-4cc0-4a1d-bd77-a183b22149bf"
      },
      "source": [
        "print(c)"
      ],
      "execution_count": null,
      "outputs": [
        {
          "output_type": "stream",
          "text": [
            "LetsUpgrade\n"
          ],
          "name": "stdout"
        }
      ]
    },
    {
      "cell_type": "markdown",
      "metadata": {
        "id": "GsmlL6p6BrqX"
      },
      "source": [
        "Variables need not be declared with any particular type, and can even change type after they have been set:"
      ]
    },
    {
      "cell_type": "code",
      "metadata": {
        "id": "mXYtOHgBBrqX"
      },
      "source": [
        "c=\"LetsUpgrade\"\n"
      ],
      "execution_count": null,
      "outputs": []
    },
    {
      "cell_type": "code",
      "metadata": {
        "id": "eofHdo3VBrqY"
      },
      "source": [
        "c=10"
      ],
      "execution_count": null,
      "outputs": []
    },
    {
      "cell_type": "code",
      "metadata": {
        "id": "N2n7UgwMBrqY",
        "outputId": "91c97fc3-2cfb-4419-bb0b-2cd393616de0"
      },
      "source": [
        "type(c)"
      ],
      "execution_count": null,
      "outputs": [
        {
          "output_type": "execute_result",
          "data": {
            "text/plain": [
              "str"
            ]
          },
          "metadata": {
            "tags": []
          },
          "execution_count": 9
        }
      ]
    },
    {
      "cell_type": "code",
      "metadata": {
        "id": "TTmE6EfABrqY",
        "outputId": "9088d609-7cbc-4526-a2f1-203f2fa29488"
      },
      "source": [
        "print(c)"
      ],
      "execution_count": null,
      "outputs": [
        {
          "output_type": "stream",
          "text": [
            "LetsUpgrade\n"
          ],
          "name": "stdout"
        }
      ]
    },
    {
      "cell_type": "markdown",
      "metadata": {
        "id": "4FyWT415BrqY"
      },
      "source": [
        "Multiple variables can be assigned with the same value."
      ]
    },
    {
      "cell_type": "code",
      "metadata": {
        "id": "Zf2JvMx8BrqZ"
      },
      "source": [
        "a=b=c=1"
      ],
      "execution_count": null,
      "outputs": []
    },
    {
      "cell_type": "code",
      "metadata": {
        "id": "9h7Cf9YmBrqZ",
        "outputId": "a3c97ffd-321f-4c54-83c1-a41227d47c33"
      },
      "source": [
        "print(a,b,c)"
      ],
      "execution_count": null,
      "outputs": [
        {
          "output_type": "stream",
          "text": [
            "1 1 1\n"
          ],
          "name": "stdout"
        }
      ]
    },
    {
      "cell_type": "markdown",
      "metadata": {
        "id": "3xRNdX9kBrqZ"
      },
      "source": [
        "Variable names are case-sensitive:"
      ]
    },
    {
      "cell_type": "code",
      "metadata": {
        "id": "siVi-MxEBrqZ"
      },
      "source": [
        "a = 4\n",
        "A = \"LetsUpgrade\""
      ],
      "execution_count": null,
      "outputs": []
    },
    {
      "cell_type": "code",
      "metadata": {
        "id": "_5r5km3UBrqZ",
        "outputId": "e6ba6baf-94b0-4cfc-cbe5-5396e8a9313a"
      },
      "source": [
        "print(a)"
      ],
      "execution_count": null,
      "outputs": [
        {
          "output_type": "stream",
          "text": [
            "4\n"
          ],
          "name": "stdout"
        }
      ]
    },
    {
      "cell_type": "code",
      "metadata": {
        "id": "Lno8o2NSBrqa",
        "outputId": "b933c539-4aa8-4fa4-e0d7-a94fa65d3ec6"
      },
      "source": [
        "print(A)"
      ],
      "execution_count": null,
      "outputs": [
        {
          "output_type": "stream",
          "text": [
            "LetsUpgrade\n"
          ],
          "name": "stdout"
        }
      ]
    },
    {
      "cell_type": "code",
      "metadata": {
        "id": "ushqHfLeBrqa",
        "outputId": "4da42e97-3b2b-49e3-9c08-94b621b91553"
      },
      "source": [
        "v_1='ab'\n",
        "print(v_1)"
      ],
      "execution_count": null,
      "outputs": [
        {
          "output_type": "stream",
          "text": [
            "ab\n"
          ],
          "name": "stdout"
        }
      ]
    },
    {
      "cell_type": "markdown",
      "metadata": {
        "id": "lSqv2pypBrqa"
      },
      "source": [
        "1) A variable name must start with a letter or the underscore character.\n",
        "\n",
        "(eg: _new_var = 10)\n",
        "\n",
        "2) A variable name cannot start with a number. \n",
        "\n",
        "(eg: 2_new_var = 10)\n",
        "\n",
        "3) A variable name can only contain alpha-numeric characters and underscores (A-z, 0-9, and _ ).\n",
        "\n",
        "(eg : new_var2 = 10)"
      ]
    },
    {
      "cell_type": "markdown",
      "metadata": {
        "id": "oXRAEh7yBrqa"
      },
      "source": [
        "# Output"
      ]
    },
    {
      "cell_type": "markdown",
      "metadata": {
        "id": "RbDTzGwdBrqb"
      },
      "source": [
        "The Python print statement is often used to output variables.\n",
        "\n",
        "To combine both text and a variable, Python uses the '+' character:"
      ]
    },
    {
      "cell_type": "code",
      "metadata": {
        "id": "Y8fss545Brqb",
        "outputId": "6a0b9b8b-e88e-4df7-e843-c3ad68e41b8e"
      },
      "source": [
        "c=\"LetsUpgrade\"\n",
        "print(\"Learning is easy with \" + c)"
      ],
      "execution_count": null,
      "outputs": [
        {
          "output_type": "stream",
          "text": [
            "Learning is easy with LetsUpgrade\n"
          ],
          "name": "stdout"
        }
      ]
    },
    {
      "cell_type": "code",
      "metadata": {
        "id": "strHUs5BBrqb",
        "outputId": "5d29317b-ffb3-4b65-f6fb-dc160d0823c9"
      },
      "source": [
        "d='New Delhi'\n",
        "print('The capital of Delhi is '+d)"
      ],
      "execution_count": null,
      "outputs": [
        {
          "output_type": "stream",
          "text": [
            "The capital of Delhi is New Delhi\n"
          ],
          "name": "stdout"
        }
      ]
    },
    {
      "cell_type": "markdown",
      "metadata": {
        "id": "JfSw0PSVBrqb"
      },
      "source": [
        "# DataTypes in Python"
      ]
    },
    {
      "cell_type": "markdown",
      "metadata": {
        "id": "vQmXY47vBrqc"
      },
      "source": [
        "Data type is an important concept in programming.\n",
        "Variables can store data of different types.\n",
        "\n",
        "Python has the following data types built-in by default:\n",
        "\n",
        "Int, Float, List, Tuple, Dictionary etc. "
      ]
    },
    {
      "cell_type": "markdown",
      "metadata": {
        "id": "1NpTM4oYBrqc"
      },
      "source": [
        "# Use of type() function"
      ]
    },
    {
      "cell_type": "markdown",
      "metadata": {
        "id": "sod4l4G0Brqc"
      },
      "source": [
        "You can get the data type of any object by using the type() function:"
      ]
    },
    {
      "cell_type": "code",
      "metadata": {
        "id": "ZVSaf9iSBrqc"
      },
      "source": [
        "a = 8\n",
        "print(type(a))"
      ],
      "execution_count": null,
      "outputs": []
    },
    {
      "cell_type": "code",
      "metadata": {
        "id": "Z145sV7XBrqd"
      },
      "source": [
        "b = \"LetsUpgrade\"\n",
        "print(type(a))"
      ],
      "execution_count": null,
      "outputs": []
    },
    {
      "cell_type": "markdown",
      "metadata": {
        "id": "cTADCmCqBrqd"
      },
      "source": [
        "# Python Strings"
      ]
    },
    {
      "cell_type": "markdown",
      "metadata": {
        "id": "xMlw1AO1Brqd"
      },
      "source": [
        "Strings in python are surrounded by either single quotation marks, or double quotation marks."
      ]
    },
    {
      "cell_type": "code",
      "metadata": {
        "id": "d81c4H_4Brqe"
      },
      "source": [
        "c=\"LetsUpgrade\"\n",
        "d='LetsUpgrade'"
      ],
      "execution_count": null,
      "outputs": []
    },
    {
      "cell_type": "code",
      "metadata": {
        "id": "APR_zMmGBrqf",
        "outputId": "c9a79a92-f3fe-481b-a8e5-4afc13ef96c8"
      },
      "source": [
        "c=\"LetsUpgrade's\"\n",
        "print(c)"
      ],
      "execution_count": null,
      "outputs": [
        {
          "output_type": "stream",
          "text": [
            "LetsUpgrade's\n"
          ],
          "name": "stdout"
        }
      ]
    },
    {
      "cell_type": "markdown",
      "metadata": {
        "id": "R_mM7hrIBrqg"
      },
      "source": [
        "In order to assign a multiline string to a variable we use three double(or single) quotes:"
      ]
    },
    {
      "cell_type": "code",
      "metadata": {
        "id": "y1XXEXGRBrqg",
        "outputId": "0638ea73-dd7d-4c43-eeaf-5d0ef1f461d9"
      },
      "source": [
        "a = \"\"\"LetsUpgrade is an online technology-based platform\n",
        "on a mission to LEARN, BUILD, SHARE and GROW.\"\"\"\n",
        "print(a)"
      ],
      "execution_count": null,
      "outputs": [
        {
          "output_type": "stream",
          "text": [
            "LetsUpgrade is an online technology-based platform\n",
            "on a mission to LEARN, BUILD, SHARE and GROW.\n"
          ],
          "name": "stdout"
        }
      ]
    },
    {
      "cell_type": "markdown",
      "metadata": {
        "id": "bDeXgSA6Brqh"
      },
      "source": [
        "Looping in strings is also possible whereby one can loop through the characters in a string."
      ]
    },
    {
      "cell_type": "code",
      "metadata": {
        "id": "p45hwgTcBrqh",
        "outputId": "b10915d4-4778-46d5-fe1a-35304e26521d"
      },
      "source": [
        "for a in c:\n",
        "    print(a)"
      ],
      "execution_count": null,
      "outputs": [
        {
          "output_type": "stream",
          "text": [
            "L\n",
            "e\n",
            "t\n",
            "s\n",
            "U\n",
            "p\n",
            "g\n",
            "r\n",
            "a\n",
            "d\n",
            "e\n",
            "'\n",
            "s\n"
          ],
          "name": "stdout"
        }
      ]
    },
    {
      "cell_type": "markdown",
      "metadata": {
        "id": "la5349oFBrqh"
      },
      "source": [
        "# List"
      ]
    },
    {
      "cell_type": "markdown",
      "metadata": {
        "id": "PM9lhHNzBrqi"
      },
      "source": [
        "Lists are the most commonly used data structure. Think of it as a sequence of data that is enclosed in square brackets and data are separated by a comma. Each of these data can be accessed by calling it's index value.\n",
        "\n",
        "Lists are declared by just equating a variable to '[ ]' or list."
      ]
    },
    {
      "cell_type": "code",
      "metadata": {
        "id": "l0HrZJWxBrqi"
      },
      "source": [
        "a = []"
      ],
      "execution_count": null,
      "outputs": []
    },
    {
      "cell_type": "code",
      "metadata": {
        "id": "h7Aa1w5ZBrqi"
      },
      "source": [
        "x = ['apple', 'orange']"
      ],
      "execution_count": null,
      "outputs": []
    },
    {
      "cell_type": "markdown",
      "metadata": {
        "id": "7T93uYUqBrqj"
      },
      "source": [
        "In python, Indexing starts from 0. Thus now the list x, which has two elements will have apple at 0 index and orange at 1 index."
      ]
    },
    {
      "cell_type": "code",
      "metadata": {
        "id": "xtRHpu5aBrqj",
        "outputId": "3d62a921-241f-47c4-f8d3-1c6a0cdc8121"
      },
      "source": [
        "x[0]"
      ],
      "execution_count": null,
      "outputs": [
        {
          "output_type": "execute_result",
          "data": {
            "text/plain": [
              "'apple'"
            ]
          },
          "metadata": {
            "tags": []
          },
          "execution_count": 36
        }
      ]
    },
    {
      "cell_type": "markdown",
      "metadata": {
        "id": "JhqUU5-HBrqk"
      },
      "source": [
        "Indexing can also be done in reverse order. That is the last element can be accessed first. Here, indexing starts from -1. Thus index value -1 will be orange and index -2 will be apple."
      ]
    },
    {
      "cell_type": "code",
      "metadata": {
        "id": "4erJOKPtBrqk",
        "outputId": "6a1bfa98-c450-464c-df17-690fdee121ad"
      },
      "source": [
        "x[-2]"
      ],
      "execution_count": null,
      "outputs": [
        {
          "output_type": "execute_result",
          "data": {
            "text/plain": [
              "'apple'"
            ]
          },
          "metadata": {
            "tags": []
          },
          "execution_count": 38
        }
      ]
    },
    {
      "cell_type": "code",
      "metadata": {
        "id": "tk-q-0DyBrqk"
      },
      "source": [
        "b = [1,2,3,4,5,6,7,8,9]"
      ],
      "execution_count": null,
      "outputs": []
    },
    {
      "cell_type": "markdown",
      "metadata": {
        "id": "EqCQ82P5Brql"
      },
      "source": [
        "List can be sliced by defining the index values of the first element and the last element from the parent list that is required in the sliced list."
      ]
    },
    {
      "cell_type": "code",
      "metadata": {
        "id": "0WN_JwdsBrql",
        "outputId": "0976a856-dc02-48ab-e09f-04e10eb755a8"
      },
      "source": [
        "print(b[0:4])\n",
        "c=b[0:4]\n",
        "print(c)"
      ],
      "execution_count": null,
      "outputs": [
        {
          "output_type": "stream",
          "text": [
            "[1, 2, 3, 4]\n",
            "[1, 2, 3, 4]\n"
          ],
          "name": "stdout"
        }
      ]
    },
    {
      "cell_type": "markdown",
      "metadata": {
        "id": "Rfz1fYikBrql"
      },
      "source": [
        "append( ) is used to add a element at the end of the list."
      ]
    },
    {
      "cell_type": "code",
      "metadata": {
        "id": "wbetxxb8Brql",
        "outputId": "7de2d9c4-78e8-4a18-c57e-6eff0d07c4fe"
      },
      "source": [
        "a=10\n",
        "b.append(a)\n",
        "print(b)"
      ],
      "execution_count": null,
      "outputs": [
        {
          "output_type": "stream",
          "text": [
            "[1, 2, 3, 4, 5, 6, 7, 8, 9, 10]\n"
          ],
          "name": "stdout"
        }
      ]
    },
    {
      "cell_type": "code",
      "metadata": {
        "id": "u-2Zdq80Brqm",
        "outputId": "5a6a85e7-5804-48f1-fa33-fea147324c01"
      },
      "source": [
        "b.append('LetsUpgrade')\n",
        "print(b)"
      ],
      "execution_count": null,
      "outputs": [
        {
          "output_type": "stream",
          "text": [
            "[1, 2, 3, 4, 5, 6, 7, 8, 9, 10, 'LetsUpgrade']\n"
          ],
          "name": "stdout"
        }
      ]
    },
    {
      "cell_type": "code",
      "metadata": {
        "id": "oTLkerhkBrqm",
        "outputId": "cf25b7fd-02db-433d-9b7c-bde53c745da9"
      },
      "source": [
        "c=[11,12,13]\n",
        "b.extend(c)\n",
        "print(b)"
      ],
      "execution_count": null,
      "outputs": [
        {
          "output_type": "stream",
          "text": [
            "[1, 2, 3, 4, 5, 6, 7, 8, 9, 10, 'LetsUpgrade', 11, 12, 13]\n"
          ],
          "name": "stdout"
        }
      ]
    },
    {
      "cell_type": "markdown",
      "metadata": {
        "id": "zEXRZGzQBrqm"
      },
      "source": [
        "# Tuple"
      ]
    },
    {
      "cell_type": "markdown",
      "metadata": {
        "id": "jSMGbUzwBrqm"
      },
      "source": [
        "Tuples are similar to lists but only big difference is the elements inside a list can be changed but in tuple it cannot be changed. Hence Tuples are known as immutable.\n",
        "\n",
        "To define a tuple, A variable is assigned to paranthesis ( ) or tuple( )."
      ]
    },
    {
      "cell_type": "code",
      "metadata": {
        "id": "RRybgGuPBrqn",
        "outputId": "1f7fdb4b-0a1e-4eaa-abc3-5686f17299be"
      },
      "source": [
        "t = (\"apple\", \"banana\", \"cherry\")\n",
        "print(t)"
      ],
      "execution_count": null,
      "outputs": [
        {
          "output_type": "stream",
          "text": [
            "('apple', 'banana', 'cherry')\n"
          ],
          "name": "stdout"
        }
      ]
    },
    {
      "cell_type": "markdown",
      "metadata": {
        "id": "8yfqgbozBrqn"
      },
      "source": [
        "When we say that tuples are ordered, it means that the items have a defined order, and that order will not change.\n",
        "\n"
      ]
    },
    {
      "cell_type": "code",
      "metadata": {
        "id": "iRMpZDjFBrqn",
        "outputId": "74e7aef3-40ae-4988-9bd5-84631d1ebadf"
      },
      "source": [
        "t[0]='t'\n",
        "print(t)"
      ],
      "execution_count": null,
      "outputs": [
        {
          "output_type": "error",
          "ename": "TypeError",
          "evalue": "'tuple' object does not support item assignment",
          "traceback": [
            "\u001b[1;31m---------------------------------------------------------------------------\u001b[0m",
            "\u001b[1;31mTypeError\u001b[0m                                 Traceback (most recent call last)",
            "\u001b[1;32m<ipython-input-47-948e0f87c5a7>\u001b[0m in \u001b[0;36m<module>\u001b[1;34m\u001b[0m\n\u001b[1;32m----> 1\u001b[1;33m \u001b[0mt\u001b[0m\u001b[1;33m[\u001b[0m\u001b[1;36m0\u001b[0m\u001b[1;33m]\u001b[0m\u001b[1;33m=\u001b[0m\u001b[1;34m't'\u001b[0m\u001b[1;33m\u001b[0m\u001b[1;33m\u001b[0m\u001b[0m\n\u001b[0m\u001b[0;32m      2\u001b[0m \u001b[0mprint\u001b[0m\u001b[1;33m(\u001b[0m\u001b[0mt\u001b[0m\u001b[1;33m)\u001b[0m\u001b[1;33m\u001b[0m\u001b[1;33m\u001b[0m\u001b[0m\n",
            "\u001b[1;31mTypeError\u001b[0m: 'tuple' object does not support item assignment"
          ]
        }
      ]
    },
    {
      "cell_type": "markdown",
      "metadata": {
        "id": "fegtbP71Brqn"
      },
      "source": [
        "# Dictionary"
      ]
    },
    {
      "cell_type": "markdown",
      "metadata": {
        "id": "OjRRySz2Brqo"
      },
      "source": [
        "Dictionaries are used to store data values in key:value pairs.\n",
        "\n",
        "Dictionaries are written with curly brackets, and have keys and values:"
      ]
    },
    {
      "cell_type": "code",
      "metadata": {
        "id": "D3mXPpsIBrqo",
        "outputId": "ca6cad8d-14a3-401f-aa7e-0f208977a454"
      },
      "source": [
        "d = {\"data\": \"science\",\"machine\": \"learning\",\"artificial\": \"intelligence\"}\n",
        "print(d)"
      ],
      "execution_count": null,
      "outputs": [
        {
          "output_type": "stream",
          "text": [
            "{'data': 'science', 'machine': 'learning', 'artificial': 'intelligence'}\n"
          ],
          "name": "stdout"
        }
      ]
    },
    {
      "cell_type": "markdown",
      "metadata": {
        "id": "88Cgd8A9Brqp"
      },
      "source": [
        "Dictionary items are unordered, changeable, and does not allow duplicates.\n",
        "\n",
        "Dictionary items are presented in key:value pairs, and can be referred to by using the key name."
      ]
    },
    {
      "cell_type": "code",
      "metadata": {
        "id": "BymStaphBrqp",
        "outputId": "eae1307b-1dfe-46a4-ea03-d922cfdf515d"
      },
      "source": [
        "print(d[\"machine\"])"
      ],
      "execution_count": null,
      "outputs": [
        {
          "output_type": "stream",
          "text": [
            "learning\n"
          ],
          "name": "stdout"
        }
      ]
    },
    {
      "cell_type": "markdown",
      "metadata": {
        "id": "oG0wZ3BEBrqp"
      },
      "source": [
        "Dictionaries are changeable, meaning that we can change, add or remove items after the dictionary has been created."
      ]
    },
    {
      "cell_type": "code",
      "metadata": {
        "id": "ln4qsUE3Brqp",
        "outputId": "bb89d53a-e0b1-40cb-975d-c82a9ab7b0a1"
      },
      "source": [
        "d[\"data\"]=\"engineer\"\n",
        "print(d)"
      ],
      "execution_count": null,
      "outputs": [
        {
          "output_type": "stream",
          "text": [
            "{'data': 'engineer', 'machine': 'learning', 'artificial': 'intelligence'}\n"
          ],
          "name": "stdout"
        }
      ]
    },
    {
      "cell_type": "code",
      "metadata": {
        "id": "ByEWtxLMBrqq",
        "outputId": "ccdcfcb6-0432-47ca-bfa5-2f0d917de959"
      },
      "source": [
        "d[\"number\"]=1\n",
        "print(d)"
      ],
      "execution_count": null,
      "outputs": [
        {
          "output_type": "stream",
          "text": [
            "{'data': 'engineer', 'machine': 'learning', 'artificial': 'intelligence', 'number': 1}\n"
          ],
          "name": "stdout"
        }
      ]
    },
    {
      "cell_type": "code",
      "metadata": {
        "id": "_zApbZLHBrqq",
        "outputId": "fa35d222-3d2d-4cd1-f553-ee489079f17b"
      },
      "source": [
        "d.items()"
      ],
      "execution_count": null,
      "outputs": [
        {
          "output_type": "execute_result",
          "data": {
            "text/plain": [
              "dict_items([('data', 'engineer'), ('machine', 'learning'), ('artificial', 'intelligence'), ('number', 1)])"
            ]
          },
          "metadata": {
            "tags": []
          },
          "execution_count": 53
        }
      ]
    },
    {
      "cell_type": "code",
      "metadata": {
        "id": "EFjYko4MBrqq",
        "outputId": "ab37d4b8-4423-48a0-bb89-4c7a72bf88ea"
      },
      "source": [
        "d.values()"
      ],
      "execution_count": null,
      "outputs": [
        {
          "output_type": "execute_result",
          "data": {
            "text/plain": [
              "dict_values(['engineer', 'learning', 'intelligence', 1])"
            ]
          },
          "metadata": {
            "tags": []
          },
          "execution_count": 54
        }
      ]
    },
    {
      "cell_type": "code",
      "metadata": {
        "id": "TOLni-WXBrqr",
        "outputId": "df4ae269-0741-4839-a514-6c000002127d"
      },
      "source": [
        "d.keys()"
      ],
      "execution_count": null,
      "outputs": [
        {
          "output_type": "execute_result",
          "data": {
            "text/plain": [
              "dict_keys(['data', 'machine', 'artificial', 'number'])"
            ]
          },
          "metadata": {
            "tags": []
          },
          "execution_count": 55
        }
      ]
    },
    {
      "cell_type": "markdown",
      "metadata": {
        "id": "DewyxfT1Brqr"
      },
      "source": [
        "Items does not have a defined order and you cannot refer to an item by using an index."
      ]
    },
    {
      "cell_type": "code",
      "metadata": {
        "id": "IXcto9TzBrqr",
        "outputId": "23c751e8-aa38-41ac-eaa7-e0fd03046028"
      },
      "source": [
        "d[0]"
      ],
      "execution_count": null,
      "outputs": [
        {
          "output_type": "error",
          "ename": "KeyError",
          "evalue": "0",
          "traceback": [
            "\u001b[1;31m---------------------------------------------------------------------------\u001b[0m",
            "\u001b[1;31mKeyError\u001b[0m                                  Traceback (most recent call last)",
            "\u001b[1;32m<ipython-input-56-123a9cc6df61>\u001b[0m in \u001b[0;36m<module>\u001b[1;34m\u001b[0m\n\u001b[1;32m----> 1\u001b[1;33m \u001b[0md\u001b[0m\u001b[1;33m[\u001b[0m\u001b[1;36m0\u001b[0m\u001b[1;33m]\u001b[0m\u001b[1;33m\u001b[0m\u001b[1;33m\u001b[0m\u001b[0m\n\u001b[0m",
            "\u001b[1;31mKeyError\u001b[0m: 0"
          ]
        }
      ]
    },
    {
      "cell_type": "markdown",
      "metadata": {
        "id": "Bry9iHFwBrqr"
      },
      "source": [
        "# Set"
      ]
    },
    {
      "cell_type": "markdown",
      "metadata": {
        "id": "PXHpLx13Brqs"
      },
      "source": [
        "A set is a collection which is both unordered and unindexed.\n",
        "\n",
        "Sets are written with curly brackets.\n",
        "\n"
      ]
    },
    {
      "cell_type": "code",
      "metadata": {
        "id": "faQvSBW7Brqs",
        "outputId": "2e4b253e-3c49-4b81-845a-fcf0e7e02ca1"
      },
      "source": [
        "s = {\"apple\", \"banana\", \"cherry\"}\n",
        "print(s)"
      ],
      "execution_count": null,
      "outputs": [
        {
          "output_type": "stream",
          "text": [
            "{'banana', 'apple', 'cherry'}\n"
          ],
          "name": "stdout"
        }
      ]
    },
    {
      "cell_type": "markdown",
      "metadata": {
        "id": "SFicKH03Brqs"
      },
      "source": [
        "Sets are unordered, so you cannot be sure in which order the items will appear.\n",
        "\n",
        "Set items can appear in a different order every time you use them, and cannot be referred to by index or key.\n"
      ]
    },
    {
      "cell_type": "code",
      "metadata": {
        "id": "TeaAHx9xBrqt",
        "outputId": "851e1444-7370-4a27-e73a-83f41967de37"
      },
      "source": [
        "s[0]"
      ],
      "execution_count": null,
      "outputs": [
        {
          "output_type": "error",
          "ename": "TypeError",
          "evalue": "'set' object is not subscriptable",
          "traceback": [
            "\u001b[1;31m---------------------------------------------------------------------------\u001b[0m",
            "\u001b[1;31mTypeError\u001b[0m                                 Traceback (most recent call last)",
            "\u001b[1;32m<ipython-input-58-c9c96910e542>\u001b[0m in \u001b[0;36m<module>\u001b[1;34m\u001b[0m\n\u001b[1;32m----> 1\u001b[1;33m \u001b[0ms\u001b[0m\u001b[1;33m[\u001b[0m\u001b[1;36m0\u001b[0m\u001b[1;33m]\u001b[0m\u001b[1;33m\u001b[0m\u001b[1;33m\u001b[0m\u001b[0m\n\u001b[0m",
            "\u001b[1;31mTypeError\u001b[0m: 'set' object is not subscriptable"
          ]
        }
      ]
    },
    {
      "cell_type": "markdown",
      "metadata": {
        "id": "tB7Eiu1JBrqu"
      },
      "source": [
        "Since sets are unordered collection of unique items, it cannot have two items with the same value."
      ]
    },
    {
      "cell_type": "code",
      "metadata": {
        "id": "xoArOCDYBrqv",
        "outputId": "9de8fa74-ffc7-4b07-eba4-a706da9fed1a"
      },
      "source": [
        "s = {\"apple\", \"banana\", \"cherry\", \"apple\"}\n",
        "\n",
        "print(s)"
      ],
      "execution_count": null,
      "outputs": [
        {
          "output_type": "stream",
          "text": [
            "{'banana', 'apple', 'cherry'}\n"
          ],
          "name": "stdout"
        }
      ]
    },
    {
      "cell_type": "markdown",
      "metadata": {
        "id": "zk2G0ognBrqw"
      },
      "source": [
        "Set items can be of any data type(String, int and boolean).\n"
      ]
    },
    {
      "cell_type": "code",
      "metadata": {
        "id": "ESEnXWBZBrqx",
        "outputId": "490e3491-4a99-4b0e-9f88-802c55087c9b"
      },
      "source": [
        "s = {1, \"banana\", \"cherry\", \"apple\"}\n",
        "\n",
        "print(s)"
      ],
      "execution_count": null,
      "outputs": [
        {
          "output_type": "stream",
          "text": [
            "{1, 'banana', 'apple', 'cherry'}\n"
          ],
          "name": "stdout"
        }
      ]
    },
    {
      "cell_type": "markdown",
      "metadata": {
        "id": "Bc4YeKDrBrqy"
      },
      "source": [
        "# Python Conditions "
      ]
    },
    {
      "cell_type": "markdown",
      "metadata": {
        "id": "iQlweLRFBrqy"
      },
      "source": [
        "# If-Else Statements"
      ]
    },
    {
      "cell_type": "markdown",
      "metadata": {
        "id": "zmdxvAtTBrqy"
      },
      "source": [
        "Python supports the usual logical conditions and are used most commonly in \"if statements\" and loops."
      ]
    },
    {
      "cell_type": "code",
      "metadata": {
        "id": "s6_9wAOXBrqz",
        "outputId": "7822ad12-aebd-4539-d3a8-893b3f2e58d2"
      },
      "source": [
        "a = 12\n",
        "b = 11\n",
        "if b > a:\n",
        "    print(\"b is greater than a\")\n",
        "else:\n",
        "    print(\"b is not greater than a\")"
      ],
      "execution_count": null,
      "outputs": [
        {
          "output_type": "stream",
          "text": [
            "b is not greater than a\n"
          ],
          "name": "stdout"
        }
      ]
    },
    {
      "cell_type": "markdown",
      "metadata": {
        "id": "MzmwpepQBrqz"
      },
      "source": [
        "Python relies on indentation or whitespace at the beginning of a line to define scope in the code.\n",
        "\n",
        "If-else statements, without indentation will raise an error."
      ]
    },
    {
      "cell_type": "code",
      "metadata": {
        "id": "Se5_gsJGBrqz"
      },
      "source": [
        "if b>a:\n",
        "    "
      ],
      "execution_count": null,
      "outputs": []
    },
    {
      "cell_type": "code",
      "metadata": {
        "id": "XUxddHmlBrqz",
        "outputId": "5b398990-b4d2-415a-baa0-3c39485c1b63"
      },
      "source": [
        "a = 10\n",
        "b = 11\n",
        "if b > a:\n",
        "    print('indent')\n",
        "else:\n",
        "    print('else block')\n",
        "print('elses')"
      ],
      "execution_count": null,
      "outputs": [
        {
          "output_type": "stream",
          "text": [
            "indent\n",
            "elses\n"
          ],
          "name": "stdout"
        }
      ]
    },
    {
      "cell_type": "code",
      "metadata": {
        "id": "zmAlKA_FBrq0",
        "outputId": "9d7b5002-44f8-423c-f695-d70e87aaf681"
      },
      "source": [
        "a=10\n",
        "b=11\n",
        "if b>a:\n",
        "    print('indent')\n",
        "else:\n",
        "    print('else')"
      ],
      "execution_count": null,
      "outputs": [
        {
          "output_type": "stream",
          "text": [
            "indent\n"
          ],
          "name": "stdout"
        }
      ]
    },
    {
      "cell_type": "markdown",
      "metadata": {
        "id": "2OtcQT85Brq0"
      },
      "source": [
        "# Python Loops"
      ]
    },
    {
      "cell_type": "markdown",
      "metadata": {
        "id": "MPuPUnyKBrq0"
      },
      "source": [
        "# while Loop"
      ]
    },
    {
      "cell_type": "markdown",
      "metadata": {
        "id": "Hscd64rkBrq0"
      },
      "source": [
        "With the while loop we can execute a set of statements as long as a condition is true."
      ]
    },
    {
      "cell_type": "code",
      "metadata": {
        "id": "sZAQ4vJ4Brq1",
        "outputId": "c7b7d9b9-419b-480f-e3ed-4efaa2f269d6"
      },
      "source": [
        "a = 1\n",
        "while a < 6:\n",
        "    print(a)\n",
        "    a += 1"
      ],
      "execution_count": null,
      "outputs": [
        {
          "output_type": "stream",
          "text": [
            "1\n",
            "2\n",
            "3\n",
            "4\n",
            "5\n"
          ],
          "name": "stdout"
        }
      ]
    },
    {
      "cell_type": "markdown",
      "metadata": {
        "id": "-T9IWjinBrq1"
      },
      "source": [
        "Else can also be accompanied by while in which we can run a block of code once when the condition no longer is true."
      ]
    },
    {
      "cell_type": "code",
      "metadata": {
        "id": "rW15kumeBrq1",
        "outputId": "687c0c4a-3a8e-4e66-ef96-7468ede05338"
      },
      "source": [
        "a = 1\n",
        "while a < 6:\n",
        "    print(a)\n",
        "    a += 1\n",
        "else:\n",
        "    print(\"While loop finished.\")"
      ],
      "execution_count": null,
      "outputs": [
        {
          "output_type": "stream",
          "text": [
            "1\n",
            "2\n",
            "3\n",
            "4\n",
            "5\n",
            "While loop finished.\n"
          ],
          "name": "stdout"
        }
      ]
    },
    {
      "cell_type": "markdown",
      "metadata": {
        "id": "gvgR_CxnBrq1"
      },
      "source": [
        "# For Loops "
      ]
    },
    {
      "cell_type": "markdown",
      "metadata": {
        "id": "PfmGHn7yBrq2"
      },
      "source": [
        "A for loop is used for iterating over a sequence of items. With the for loop we can execute a set of statements, once for each item in a list, tuple, set etc."
      ]
    },
    {
      "cell_type": "code",
      "metadata": {
        "id": "z-Bmaw2KBrq2",
        "outputId": "47b3177f-b76d-4f56-c97b-b1bf01397034"
      },
      "source": [
        "a = [\"apple\", \"banana\", \"cherry\"]\n",
        "for x in a:\n",
        "        print(x)"
      ],
      "execution_count": null,
      "outputs": [
        {
          "output_type": "stream",
          "text": [
            "apple\n",
            "banana\n",
            "cherry\n"
          ],
          "name": "stdout"
        }
      ]
    },
    {
      "cell_type": "code",
      "metadata": {
        "id": "CZj1WgpSBrq2",
        "outputId": "1c3919f2-f733-4b0a-ef4d-635aa5155b42"
      },
      "source": [
        "b='LetsUpgrade'\n",
        "for x in b:\n",
        "    print(x)\n"
      ],
      "execution_count": null,
      "outputs": [
        {
          "output_type": "stream",
          "text": [
            "L\n",
            "e\n",
            "t\n",
            "s\n",
            "U\n",
            "p\n",
            "g\n",
            "r\n",
            "a\n",
            "d\n",
            "e\n"
          ],
          "name": "stdout"
        }
      ]
    },
    {
      "cell_type": "markdown",
      "metadata": {
        "id": "DN8eGNwlBrq2"
      },
      "source": [
        "We can even have a nested loop.\n",
        "\n",
        "A nested loop is a loop inside a loop.\n",
        "\n",
        "The \"inner loop\" will be executed one time for each iteration of the \"outer loop\"."
      ]
    },
    {
      "cell_type": "code",
      "metadata": {
        "id": "LxKBOxYWBrq3",
        "outputId": "6dbd9a5d-9dfb-4698-bdf1-d2183ebf0f25"
      },
      "source": [
        "numbers = [1, 2, 3]\n",
        "values = [\"first\", \"second\", \"third\"]\n",
        "\n",
        "for x in numbers:\n",
        "    for y in values:\n",
        "        print(x, y)"
      ],
      "execution_count": null,
      "outputs": [
        {
          "output_type": "stream",
          "text": [
            "1 first\n",
            "1 second\n",
            "1 third\n",
            "2 first\n",
            "2 second\n",
            "2 third\n",
            "3 first\n",
            "3 second\n",
            "3 third\n"
          ],
          "name": "stdout"
        }
      ]
    },
    {
      "cell_type": "markdown",
      "metadata": {
        "id": "nS98MpfnBrq3"
      },
      "source": [
        "With the break statement we can stop the loop before it has looped through all the items."
      ]
    },
    {
      "cell_type": "code",
      "metadata": {
        "id": "i6mo4rWUBrq3",
        "outputId": "414d8358-7389-4679-ed15-7b2226e8e6ed"
      },
      "source": [
        "values = [\"first\", \"second\", \"third\"]\n",
        "for x in values:\n",
        "    print(x)\n",
        "    if x == \"second\":\n",
        "        break"
      ],
      "execution_count": null,
      "outputs": [
        {
          "output_type": "stream",
          "text": [
            "first\n",
            "second\n"
          ],
          "name": "stdout"
        }
      ]
    },
    {
      "cell_type": "markdown",
      "metadata": {
        "id": "B9zL8wOZBrq3"
      },
      "source": [
        "With the continue statement we can stop the current iteration of the loop, and continue with the next."
      ]
    },
    {
      "cell_type": "code",
      "metadata": {
        "id": "VAi8vbKWBrq4",
        "outputId": "29540946-b1e2-41bc-fdcb-1b50cb0bfcaf"
      },
      "source": [
        "values = [\"first\", \"second\", \"third\"]\n",
        "for x in values:\n",
        "    if x == \"second\":\n",
        "        continue\n",
        "    print(x)"
      ],
      "execution_count": null,
      "outputs": [
        {
          "output_type": "stream",
          "text": [
            "first\n",
            "third\n"
          ],
          "name": "stdout"
        }
      ]
    },
    {
      "cell_type": "code",
      "metadata": {
        "id": "vILtBo-OBrq4"
      },
      "source": [
        ""
      ],
      "execution_count": null,
      "outputs": []
    }
  ]
}